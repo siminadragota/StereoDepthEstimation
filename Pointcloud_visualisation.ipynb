{
 "cells": [
  {
   "cell_type": "code",
   "execution_count": 2,
   "id": "4a56833b-eaf6-4f0f-a6e0-7c2b9015c839",
   "metadata": {},
   "outputs": [
    {
     "data": {
      "application/vnd.jupyter.widget-view+json": {
       "model_id": "bc26bce344704ff9ba758d73b5aa7b76",
       "version_major": 2,
       "version_minor": 0
      },
      "text/plain": [
       "Output()"
      ]
     },
     "metadata": {},
     "output_type": "display_data"
    }
   ],
   "source": [
    "import numpy as np\n",
    "import k3d\n",
    "\n",
    "# Load LiDAR .bin file (Assuming it has (X, Y, Z) or (X, Y, Z, Intensity))\n",
    "def load_lidar_bin(file_path):\n",
    "    \"\"\"Load a .bin LiDAR file (KITTI format).\"\"\"\n",
    "    points = np.fromfile(file_path, dtype=np.float32).reshape(-1, 4)  # (X, Y, Z, Intensity)\n",
    "    return points[:, :3]  # Extract only XYZ (ignore intensity)\n",
    "\n",
    "# Provide the path to your .bin file\n",
    "file_path = \"/home/feddelaptop/computer_vision/Dataset/data_object_velodyne/training/velodyne/000000.bin\"\n",
    "\n",
    "points = load_lidar_bin(file_path)\n",
    "\n",
    "# Create K3D plot\n",
    "plot = k3d.plot()\n",
    "point_cloud = k3d.points(points, point_size=0.05, color=0x00ff00)\n",
    "plot += point_cloud\n",
    "\n",
    "# Show the plot\n",
    "plot.display()\n"
   ]
  },
  {
   "cell_type": "code",
   "execution_count": null,
   "id": "a39f8782-40b8-4a89-84a8-16877da0ce0a",
   "metadata": {},
   "outputs": [],
   "source": []
  }
 ],
 "metadata": {
  "kernelspec": {
   "display_name": "Python 3 (ipykernel)",
   "language": "python",
   "name": "python3"
  },
  "language_info": {
   "codemirror_mode": {
    "name": "ipython",
    "version": 3
   },
   "file_extension": ".py",
   "mimetype": "text/x-python",
   "name": "python",
   "nbconvert_exporter": "python",
   "pygments_lexer": "ipython3",
   "version": "3.9.21"
  }
 },
 "nbformat": 4,
 "nbformat_minor": 5
}
