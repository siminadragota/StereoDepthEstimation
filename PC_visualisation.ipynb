{
 "cells": [
  {
   "cell_type": "markdown",
   "id": "a5d03bb9",
   "metadata": {},
   "source": [
    "Imports:"
   ]
  },
  {
   "cell_type": "code",
   "execution_count": null,
   "id": "33980c04",
   "metadata": {},
   "outputs": [],
   "source": [
    "import os\n",
    "import numpy as np\n",
    "import k3d"
   ]
  },
  {
   "cell_type": "markdown",
   "id": "fa398e38",
   "metadata": {},
   "source": [
    "Helper functions:"
   ]
  },
  {
   "cell_type": "code",
   "execution_count": null,
   "id": "609b54d9",
   "metadata": {},
   "outputs": [],
   "source": [
    "def load_lidar_bin(lidar_path):\n",
    "    return np.fromfile(lidar_path, dtype=np.float32).reshape(-1, 4)[:, :3]  #Only x, y and z"
   ]
  },
  {
   "cell_type": "markdown",
   "id": "fe636df2",
   "metadata": {},
   "source": [
    "Plotting the datapoints:\n"
   ]
  },
  {
   "cell_type": "code",
   "execution_count": null,
   "id": "a39f8782-40b8-4a89-84a8-16877da0ce0a",
   "metadata": {},
   "outputs": [
    {
     "name": "stdout",
     "output_type": "stream",
     "text": [
      "(27311, 3)\n",
      "(27311, 3) (28152, 3)\n"
     ]
    },
    {
     "name": "stderr",
     "output_type": "stream",
     "text": [
      "/home/feddepc/miniconda3/envs/cv/lib/python3.9/site-packages/traittypes/traittypes.py:97: UserWarning: Given trait value dtype \"float64\" does not match required type \"float32\". A coerced copy has been created.\n",
      "  warnings.warn(\n"
     ]
    },
    {
     "data": {
      "application/vnd.jupyter.widget-view+json": {
       "model_id": "d54b45dee26f4a04bf55f1ed90316b06",
       "version_major": 2,
       "version_minor": 0
      },
      "text/plain": [
       "Output()"
      ]
     },
     "metadata": {},
     "output_type": "display_data"
    }
   ],
   "source": [
    "sequence_number = 3 #choose between 3, 4 5, 9 and 16\n",
    "\n",
    "lidar_pc_path = os.path.expanduser(\"Kitti_disparity_example/{:06d}.bin\").format(sequence_number)\n",
    "disparity_pc_path = os.path.expanduser(\"Kitti_lidar_example/{:06d}.bin\").format(sequence_number)\n",
    "\n",
    "lidar_points = load_lidar_bin(lidar_pc_path)\n",
    "disparity_points = load_lidar_bin(disparity_pc_path)\n",
    "\n",
    "plot = k3d.plot()\n",
    "plot += k3d.points(lidar_points, point_size=0.05, color=0x0000ff)\n",
    "plot += k3d.points(disparity_points, point_size=0.05, color=0x0000ff)\n",
    "plot.display()"
   ]
  }
 ],
 "metadata": {
  "kernelspec": {
   "display_name": "cv",
   "language": "python",
   "name": "python3"
  },
  "language_info": {
   "codemirror_mode": {
    "name": "ipython",
    "version": 3
   },
   "file_extension": ".py",
   "mimetype": "text/x-python",
   "name": "python",
   "nbconvert_exporter": "python",
   "pygments_lexer": "ipython3",
   "version": "3.9.21"
  }
 },
 "nbformat": 4,
 "nbformat_minor": 5
}
